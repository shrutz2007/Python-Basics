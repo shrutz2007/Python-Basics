{
  "nbformat": 4,
  "nbformat_minor": 0,
  "metadata": {
    "colab": {
      "name": "Turtle3 Sketch .ipynb",
      "provenance": []
    },
    "kernelspec": {
      "name": "python3",
      "display_name": "Python 3"
    },
    "language_info": {
      "name": "python"
    }
  },
  "cells": [
    {
      "cell_type": "code",
      "metadata": {
        "id": "Q2qGum5Fs9wD"
      },
      "source": [
        "from turtle import Turtle,Screen\n",
        "\n",
        "tim=Turtle()\n",
        "screen=Screen()\n",
        "\n",
        "def move_f():\n",
        "    tim.forward(10)\n",
        "def move_b():\n",
        "    tim.backward(10)\n",
        "def move_ccw():\n",
        "    new_heading=tim.heading()+10\n",
        "    tim.setheading(new_heading)\n",
        "def move_cw():\n",
        "    new_heading=tim.heading()-10\n",
        "    tim.setheading(new_heading)\n",
        "def clear():\n",
        "    tim.clear()\n",
        "    tim.penup()\n",
        "    tim.home()\n",
        "    tim.pendown()\n",
        "screen.listen()\n",
        "screen.onkey(key='w',fun=move_f)\n",
        "screen.onkey(key='s',fun=move_b)\n",
        "screen.onkey(key='a',fun=move_ccw)\n",
        "screen.onkey(key='d',fun=move_cw)\n",
        "screen.onkey(key='c',fun=clear)\n",
        "screen.exitonclick()"
      ],
      "execution_count": null,
      "outputs": []
    }
  ]
}