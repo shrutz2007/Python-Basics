{
  "nbformat": 4,
  "nbformat_minor": 0,
  "metadata": {
    "colab": {
      "name": "Turtle1 .ipynb",
      "provenance": []
    },
    "kernelspec": {
      "name": "python3",
      "display_name": "Python 3"
    },
    "language_info": {
      "name": "python"
    }
  },
  "cells": [
    {
      "cell_type": "code",
      "metadata": {
        "id": "Q2qGum5Fs9wD"
      },
      "source": [
        "\n",
        "import turtle\n",
        "from turtle import Turtle, Screen\n",
        "\n",
        "tim = Turtle()\n",
        "tim.color('purple1')\n",
        "colors = ['red','green','blue','pink','yellow','black']\n",
        "def shape(num_sides):\n",
        "    angle = 360 / num_sides\n",
        "    for _ in range(num_sides):\n",
        "    #angle=360/num_sides\n",
        "        tim.forward(180)\n",
        "        tim.right(angle)\n",
        "for shape_side_n in range(3,10):\n",
        "    tim.color(random.choice(colors))\n",
        "    shape(shape_side_n)\n",
        "\n",
        "screen = Screen()\n",
        "screen.exitonclick()"
      ],
      "execution_count": null,
      "outputs": []
    }
  ]
}