{
  "nbformat": 4,
  "nbformat_minor": 0,
  "metadata": {
    "colab": {
      "name": "Turtle game.ipynb",
      "provenance": []
    },
    "kernelspec": {
      "name": "python3",
      "display_name": "Python 3"
    },
    "language_info": {
      "name": "python"
    }
  },
  "cells": [
    {
      "cell_type": "code",
      "metadata": {
        "id": "n4LAkpIgeDjv"
      },
      "source": [
        "'''Importing lib's'''\n",
        "from turtle import Turtle, Screen\n",
        "import random\n",
        "\n",
        "is_race_on = False\n",
        "new_turtle = Turtle()\n",
        "screen = Screen()\n",
        "\n",
        "'''Height of Output window'''\n",
        "screen.setup(width=500, height=400)\n",
        "\n",
        "'''User input bat for bet on pet as per the color'''\n",
        "\n",
        "user_bet = screen.textinput(title='Make your bet', prompt='Which turle will win the race? Enter color : ')\n",
        "colors = ['red', 'orange', 'yellow', 'blue', 'purple1', 'green']\n",
        "y_positions = [-70, -40, -10, 20, 50, 80]\n",
        "all_turtles = [ ]\n",
        "\n",
        "for turtle_index in range(0, 6):\n",
        "    '''Giving shape'''\n",
        "\n",
        "    new_turtle = Turtle(shape = 'turtle')\n",
        "\n",
        "\n",
        "    new_turtle.penup()\n",
        "    ''' Giving different colors to every turtle'''\n",
        "\n",
        "    new_turtle.color(colors[turtle_index])\n",
        "\n",
        "    '''Writing the co-ordinates values of x and y; as turtle moves in straight direction instead of up-down'''\n",
        "\n",
        "    new_turtle.goto(x=-230, y=y_positions[turtle_index])\n",
        "    all_turtles.append(new_turtle)\n",
        "if user_bet:\n",
        "    is_race_on = True\n",
        "\n",
        "while is_race_on:\n",
        "\n",
        "    '''Random dist for moving our turtles'''\n",
        "\n",
        "    for turtle in all_turtles:\n",
        "        if turtle.xcor() > 230:\n",
        "            is_race_on = False\n",
        "            winning_color=turtle.pencolor()\n",
        "            if winning_color == user_bet:\n",
        "                print(f\"You Won! The {winning_color} is winning turtle\")\n",
        "            else:\n",
        "                print(f\"You loose! The {winning_color} is winning turtle\")\n",
        "        rand_distance = random.randint(0,10)\n",
        "        turtle.forward(rand_distance)\n",
        "\n",
        "screen.exitonclick()"
      ],
      "execution_count": null,
      "outputs": []
    }
  ]
}