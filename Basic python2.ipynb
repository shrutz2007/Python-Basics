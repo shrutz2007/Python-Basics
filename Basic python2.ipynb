{
  "nbformat": 4,
  "nbformat_minor": 0,
  "metadata": {
    "colab": {
      "name": "Practice.ipynb",
      "provenance": []
    },
    "kernelspec": {
      "name": "python3",
      "display_name": "Python 3"
    }
  },
  "cells": [
    {
      "cell_type": "markdown",
      "metadata": {
        "id": "i16s0JnBqv8x"
      },
      "source": [
        "# **User input**"
      ]
    },
    {
      "cell_type": "code",
      "metadata": {
        "colab": {
          "base_uri": "https://localhost:8080/"
        },
        "id": "n__S_R5Bqr42",
        "outputId": "c5b668e4-5529-49b5-b95e-71c1f63ae1cb"
      },
      "source": [
        "x=int(input(\"Enter first number : \"))\r\n",
        "y=int(input(\"Enter second number : \"))\r\n",
        "z=x+y\r\n",
        "print(z)"
      ],
      "execution_count": 1,
      "outputs": [
        {
          "output_type": "stream",
          "text": [
            "Enter first number : 3\n",
            "Enter second number : 7\n",
            "10\n"
          ],
          "name": "stdout"
        }
      ]
    },
    {
      "cell_type": "code",
      "metadata": {
        "colab": {
          "base_uri": "https://localhost:8080/"
        },
        "id": "Z8KWFhjJrJMp",
        "outputId": "24ebc8ba-3cf3-4a90-f175-73874c003a7e"
      },
      "source": [
        "character=input(\"enter the character : \")\r\n",
        "print(character)"
      ],
      "execution_count": 2,
      "outputs": [
        {
          "output_type": "stream",
          "text": [
            "enter the character : shruti\n",
            "shruti\n"
          ],
          "name": "stdout"
        }
      ]
    },
    {
      "cell_type": "code",
      "metadata": {
        "colab": {
          "base_uri": "https://localhost:8080/"
        },
        "id": "L-phS4hUrVZY",
        "outputId": "a8935038-a550-46c5-8d8a-1be9f83a80e6"
      },
      "source": [
        "result=eval(input(\"Enter the expression : \"))\r\n",
        "result"
      ],
      "execution_count": 3,
      "outputs": [
        {
          "output_type": "stream",
          "text": [
            "Enter the expression : 3*3-3\n"
          ],
          "name": "stdout"
        },
        {
          "output_type": "execute_result",
          "data": {
            "text/plain": [
              "6"
            ]
          },
          "metadata": {
            "tags": []
          },
          "execution_count": 3
        }
      ]
    },
    {
      "cell_type": "markdown",
      "metadata": {
        "id": "SOC1ovaMrwQC"
      },
      "source": [
        "# ***If else ***"
      ]
    },
    {
      "cell_type": "code",
      "metadata": {
        "colab": {
          "base_uri": "https://localhost:8080/"
        },
        "id": "KJxGJthXr7b3",
        "outputId": "6128adea-3289-4c2f-86de-a469e3afc747"
      },
      "source": [
        "#Odd Even program\r\n",
        "x=8\r\n",
        "r=x%2\r\n",
        "if(r==0):\r\n",
        "  print(\"Even\")\r\n",
        "else:\r\n",
        "  print(\"Odd\")"
      ],
      "execution_count": 4,
      "outputs": [
        {
          "output_type": "stream",
          "text": [
            "Even\n"
          ],
          "name": "stdout"
        }
      ]
    },
    {
      "cell_type": "markdown",
      "metadata": {
        "id": "RcQ5-b_zsMSA"
      },
      "source": [
        "# **While Loop**"
      ]
    },
    {
      "cell_type": "code",
      "metadata": {
        "colab": {
          "base_uri": "https://localhost:8080/"
        },
        "id": "SnTF-HJdsPzg",
        "outputId": "27ab6c33-6f83-46b0-a515-0c8782efe534"
      },
      "source": [
        "i=1\r\n",
        "while(i<=5):\r\n",
        "  print(\"shrutz\")\r\n",
        "  i=i+1"
      ],
      "execution_count": 5,
      "outputs": [
        {
          "output_type": "stream",
          "text": [
            "shrutz\n",
            "shrutz\n",
            "shrutz\n",
            "shrutz\n",
            "shrutz\n"
          ],
          "name": "stdout"
        }
      ]
    },
    {
      "cell_type": "markdown",
      "metadata": {
        "id": "44t1kCRWsbEY"
      },
      "source": [
        "# **For Loop**"
      ]
    },
    {
      "cell_type": "code",
      "metadata": {
        "colab": {
          "base_uri": "https://localhost:8080/"
        },
        "id": "kl_szEIbsfs3",
        "outputId": "99cdfc3f-7396-42b6-dfbc-93f085702e3a"
      },
      "source": [
        "x='Shruti'\r\n",
        "for i in x:\r\n",
        "  print(i)"
      ],
      "execution_count": 7,
      "outputs": [
        {
          "output_type": "stream",
          "text": [
            "S\n",
            "h\n",
            "r\n",
            "u\n",
            "t\n",
            "i\n"
          ],
          "name": "stdout"
        }
      ]
    },
    {
      "cell_type": "code",
      "metadata": {
        "colab": {
          "base_uri": "https://localhost:8080/"
        },
        "id": "1COQOOxesxyW",
        "outputId": "3ced0c42-0b50-4c0d-e2d8-3391c2766cb0"
      },
      "source": [
        "for i in range(10):\r\n",
        "  print(i)  "
      ],
      "execution_count": 11,
      "outputs": [
        {
          "output_type": "stream",
          "text": [
            "0\n",
            "1\n",
            "2\n",
            "3\n",
            "4\n",
            "5\n",
            "6\n",
            "7\n",
            "8\n",
            "9\n"
          ],
          "name": "stdout"
        }
      ]
    },
    {
      "cell_type": "markdown",
      "metadata": {
        "id": "t3JuT0QetcBj"
      },
      "source": [
        "# **Continue**"
      ]
    },
    {
      "cell_type": "code",
      "metadata": {
        "colab": {
          "base_uri": "https://localhost:8080/"
        },
        "id": "nINSXpOGte1n",
        "outputId": "bef42025-59d0-436e-f39d-45b6fd11f530"
      },
      "source": [
        "for i in range(1,101):\r\n",
        "  if (i%3==0):\r\n",
        "    continue\r\n",
        "  print(i)"
      ],
      "execution_count": 12,
      "outputs": [
        {
          "output_type": "stream",
          "text": [
            "1\n",
            "2\n",
            "4\n",
            "5\n",
            "7\n",
            "8\n",
            "10\n",
            "11\n",
            "13\n",
            "14\n",
            "16\n",
            "17\n",
            "19\n",
            "20\n",
            "22\n",
            "23\n",
            "25\n",
            "26\n",
            "28\n",
            "29\n",
            "31\n",
            "32\n",
            "34\n",
            "35\n",
            "37\n",
            "38\n",
            "40\n",
            "41\n",
            "43\n",
            "44\n",
            "46\n",
            "47\n",
            "49\n",
            "50\n",
            "52\n",
            "53\n",
            "55\n",
            "56\n",
            "58\n",
            "59\n",
            "61\n",
            "62\n",
            "64\n",
            "65\n",
            "67\n",
            "68\n",
            "70\n",
            "71\n",
            "73\n",
            "74\n",
            "76\n",
            "77\n",
            "79\n",
            "80\n",
            "82\n",
            "83\n",
            "85\n",
            "86\n",
            "88\n",
            "89\n",
            "91\n",
            "92\n",
            "94\n",
            "95\n",
            "97\n",
            "98\n",
            "100\n"
          ],
          "name": "stdout"
        }
      ]
    },
    {
      "cell_type": "markdown",
      "metadata": {
        "id": "eOLh0E9atruC"
      },
      "source": [
        "# **Pass**"
      ]
    },
    {
      "cell_type": "code",
      "metadata": {
        "colab": {
          "base_uri": "https://localhost:8080/"
        },
        "id": "c28iD0EItu_H",
        "outputId": "4b9b7b62-7e7c-4c74-aaae-c6e3e4215529"
      },
      "source": [
        "for i in range(1,50):\r\n",
        "  if(i%2==0):\r\n",
        "    pass\r\n",
        "  else:\r\n",
        "    print(i)"
      ],
      "execution_count": 13,
      "outputs": [
        {
          "output_type": "stream",
          "text": [
            "1\n",
            "3\n",
            "5\n",
            "7\n",
            "9\n",
            "11\n",
            "13\n",
            "15\n",
            "17\n",
            "19\n",
            "21\n",
            "23\n",
            "25\n",
            "27\n",
            "29\n",
            "31\n",
            "33\n",
            "35\n",
            "37\n",
            "39\n",
            "41\n",
            "43\n",
            "45\n",
            "47\n",
            "49\n"
          ],
          "name": "stdout"
        }
      ]
    }
  ]
}