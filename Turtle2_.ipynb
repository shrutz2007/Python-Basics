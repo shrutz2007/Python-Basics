{
  "nbformat": 4,
  "nbformat_minor": 0,
  "metadata": {
    "colab": {
      "name": "Turtle2 .ipynb",
      "provenance": []
    },
    "kernelspec": {
      "name": "python3",
      "display_name": "Python 3"
    },
    "language_info": {
      "name": "python"
    }
  },
  "cells": [
    {
      "cell_type": "code",
      "metadata": {
        "id": "Q2qGum5Fs9wD"
      },
      "source": [
        "import random\n",
        "import turtle\n",
        "from turtle import Turtle, Screen\n",
        "\n",
        "tim = Turtle()\n",
        "tim.color('purple1')\n",
        "colors = ['red','green','blue','pink','yellow','black']\n",
        "directions = [0,90,180,270]\n",
        "\n",
        "for _ in range(200):\n",
        "    tim.color(random.choice(colors))\n",
        "    tim.pensize(10)\n",
        "    tim.forward(30)\n",
        "    tim.setheading(random.choice(directions))\n",
        "    tim.speed(15)\n",
        "screen = Screen()\n",
        "screen.exitonclick()"
      ],
      "execution_count": null,
      "outputs": []
    }
  ]
}