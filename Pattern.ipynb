{
  "nbformat": 4,
  "nbformat_minor": 0,
  "metadata": {
    "colab": {
      "name": "Pattern.ipynb",
      "provenance": []
    },
    "kernelspec": {
      "name": "python3",
      "display_name": "Python 3"
    }
  },
  "cells": [
    {
      "cell_type": "code",
      "metadata": {
        "colab": {
          "base_uri": "https://localhost:8080/"
        },
        "id": "XEROa6aluPXU",
        "outputId": "8a651148-218e-4537-8e8d-89bdcc1a4f1b"
      },
      "source": [
        "for i in range(4):\r\n",
        "  for j in range(4):\r\n",
        "    print(\"#\",end=\" \")\r\n",
        "  print()"
      ],
      "execution_count": 5,
      "outputs": [
        {
          "output_type": "stream",
          "text": [
            "# # # # \n",
            "# # # # \n",
            "# # # # \n",
            "# # # # \n"
          ],
          "name": "stdout"
        }
      ]
    },
    {
      "cell_type": "code",
      "metadata": {
        "colab": {
          "base_uri": "https://localhost:8080/"
        },
        "id": "nIPw2pehup4t",
        "outputId": "4b0d1c9d-434b-4477-9730-0d22c3613b90"
      },
      "source": [
        "for i in range(4):\r\n",
        "  for j in range(i):\r\n",
        "    print(\"#\",end=\" \")\r\n",
        "  print()"
      ],
      "execution_count": 6,
      "outputs": [
        {
          "output_type": "stream",
          "text": [
            "\n",
            "# \n",
            "# # \n",
            "# # # \n"
          ],
          "name": "stdout"
        }
      ]
    },
    {
      "cell_type": "code",
      "metadata": {
        "colab": {
          "base_uri": "https://localhost:8080/"
        },
        "id": "1-qim16DuvD5",
        "outputId": "82ab808c-79b4-457e-d2e6-84de1ead41bc"
      },
      "source": [
        "for i in range(4):\r\n",
        "  for j in range(i+1):\r\n",
        "    print(\"#\",end=\" \")\r\n",
        "  print()"
      ],
      "execution_count": 7,
      "outputs": [
        {
          "output_type": "stream",
          "text": [
            "# \n",
            "# # \n",
            "# # # \n",
            "# # # # \n"
          ],
          "name": "stdout"
        }
      ]
    },
    {
      "cell_type": "code",
      "metadata": {
        "colab": {
          "base_uri": "https://localhost:8080/"
        },
        "id": "0_omHNP0uz1M",
        "outputId": "4c50ace4-cd30-4084-e5b7-af7d23058792"
      },
      "source": [
        "for i in range(4):\r\n",
        "  for j in range(4-i):\r\n",
        "    print(\"#\",end=\" \")\r\n",
        "  print()"
      ],
      "execution_count": 8,
      "outputs": [
        {
          "output_type": "stream",
          "text": [
            "# # # # \n",
            "# # # \n",
            "# # \n",
            "# \n"
          ],
          "name": "stdout"
        }
      ]
    }
  ]
}