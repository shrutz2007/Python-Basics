{
  "nbformat": 4,
  "nbformat_minor": 0,
  "metadata": {
    "colab": {
      "name": "Basic python practice.ipynb",
      "provenance": []
    },
    "kernelspec": {
      "name": "python3",
      "display_name": "Python 3"
    }
  },
  "cells": [
    {
      "cell_type": "markdown",
      "metadata": {
        "id": "-HqYdPkBjvnp"
      },
      "source": [
        "# **Lists**"
      ]
    },
    {
      "cell_type": "code",
      "metadata": {
        "colab": {
          "base_uri": "https://localhost:8080/"
        },
        "id": "73T5MZHRjtxp",
        "outputId": "9c3dbd32-a187-432f-b4a3-65046d193e8e"
      },
      "source": [
        "n=[0,1,2,3,4,5,6]\r\n",
        "n[0]"
      ],
      "execution_count": 1,
      "outputs": [
        {
          "output_type": "execute_result",
          "data": {
            "text/plain": [
              "0"
            ]
          },
          "metadata": {
            "tags": []
          },
          "execution_count": 1
        }
      ]
    },
    {
      "cell_type": "code",
      "metadata": {
        "colab": {
          "base_uri": "https://localhost:8080/"
        },
        "id": "_J0idM7pj_yM",
        "outputId": "36c8ad4e-4200-49b7-bca0-644eb2d7eea1"
      },
      "source": [
        "n[-5]"
      ],
      "execution_count": 2,
      "outputs": [
        {
          "output_type": "execute_result",
          "data": {
            "text/plain": [
              "2"
            ]
          },
          "metadata": {
            "tags": []
          },
          "execution_count": 2
        }
      ]
    },
    {
      "cell_type": "code",
      "metadata": {
        "colab": {
          "base_uri": "https://localhost:8080/"
        },
        "id": "33qs6QfNkCls",
        "outputId": "a35a8b2a-2746-4f78-9ed8-8643b5c09aa5"
      },
      "source": [
        "n[2:]"
      ],
      "execution_count": 3,
      "outputs": [
        {
          "output_type": "execute_result",
          "data": {
            "text/plain": [
              "[2, 3, 4, 5, 6]"
            ]
          },
          "metadata": {
            "tags": []
          },
          "execution_count": 3
        }
      ]
    },
    {
      "cell_type": "code",
      "metadata": {
        "colab": {
          "base_uri": "https://localhost:8080/"
        },
        "id": "BcO3kPPyk0qT",
        "outputId": "d6da3a67-6575-4234-c713-5cc3b99d2e67"
      },
      "source": [
        "name=['Shruti','5.5','Jawale']\r\n",
        "name"
      ],
      "execution_count": 19,
      "outputs": [
        {
          "output_type": "execute_result",
          "data": {
            "text/plain": [
              "['Shruti', '5.5', 'Jawale']"
            ]
          },
          "metadata": {
            "tags": []
          },
          "execution_count": 19
        }
      ]
    },
    {
      "cell_type": "markdown",
      "metadata": {
        "id": "bhYwh34pmU-c"
      },
      "source": [
        "# **Tuple and sets**"
      ]
    },
    {
      "cell_type": "code",
      "metadata": {
        "colab": {
          "base_uri": "https://localhost:8080/"
        },
        "id": "lhUs9-0vmLBo",
        "outputId": "55ab1023-b848-482c-c6ea-a601134c272d"
      },
      "source": [
        "tup=(21,23,45,65,6)\r\n",
        "tup[1]"
      ],
      "execution_count": 22,
      "outputs": [
        {
          "output_type": "execute_result",
          "data": {
            "text/plain": [
              "23"
            ]
          },
          "metadata": {
            "tags": []
          },
          "execution_count": 22
        }
      ]
    },
    {
      "cell_type": "code",
      "metadata": {
        "colab": {
          "base_uri": "https://localhost:8080/"
        },
        "id": "RiClhwQ-mhPE",
        "outputId": "90f5ad1d-dd07-4367-ba7b-fa9df46f66de"
      },
      "source": [
        "set={1,3,2,5,4,7}\r\n",
        "set"
      ],
      "execution_count": 23,
      "outputs": [
        {
          "output_type": "execute_result",
          "data": {
            "text/plain": [
              "{1, 2, 3, 4, 5, 7}"
            ]
          },
          "metadata": {
            "tags": []
          },
          "execution_count": 23
        }
      ]
    },
    {
      "cell_type": "markdown",
      "metadata": {
        "id": "_pudxTimmo_W"
      },
      "source": [
        "# **Variables**"
      ]
    },
    {
      "cell_type": "code",
      "metadata": {
        "colab": {
          "base_uri": "https://localhost:8080/"
        },
        "id": "fSs2vLP0mscO",
        "outputId": "2862b688-ee25-4f6a-ef13-030f8a23612e"
      },
      "source": [
        "num=5\r\n",
        "id(num)  #address"
      ],
      "execution_count": 24,
      "outputs": [
        {
          "output_type": "execute_result",
          "data": {
            "text/plain": [
              "10914624"
            ]
          },
          "metadata": {
            "tags": []
          },
          "execution_count": 24
        }
      ]
    },
    {
      "cell_type": "markdown",
      "metadata": {
        "id": "71XWHc6Em5DF"
      },
      "source": [
        "# **Datatypes**"
      ]
    },
    {
      "cell_type": "code",
      "metadata": {
        "colab": {
          "base_uri": "https://localhost:8080/"
        },
        "id": "smLRYS0Rm9Jz",
        "outputId": "027f11b0-1b5e-4c22-d9ca-929de06630f3"
      },
      "source": [
        "num=2.5\r\n",
        "type(num)"
      ],
      "execution_count": 25,
      "outputs": [
        {
          "output_type": "execute_result",
          "data": {
            "text/plain": [
              "float"
            ]
          },
          "metadata": {
            "tags": []
          },
          "execution_count": 25
        }
      ]
    },
    {
      "cell_type": "code",
      "metadata": {
        "colab": {
          "base_uri": "https://localhost:8080/"
        },
        "id": "yxFhsCz5nChd",
        "outputId": "504981ca-6ec9-4ed3-864f-eed20250919e"
      },
      "source": [
        "num=9\r\n",
        "type(num)"
      ],
      "execution_count": 26,
      "outputs": [
        {
          "output_type": "execute_result",
          "data": {
            "text/plain": [
              "int"
            ]
          },
          "metadata": {
            "tags": []
          },
          "execution_count": 26
        }
      ]
    },
    {
      "cell_type": "markdown",
      "metadata": {
        "id": "V7uLEVX7nHJb"
      },
      "source": [
        "# **Convert float into integer**"
      ]
    },
    {
      "cell_type": "code",
      "metadata": {
        "colab": {
          "base_uri": "https://localhost:8080/"
        },
        "id": "iAU28MSJnMek",
        "outputId": "889e32e2-e3c6-4c27-9382-fbdffd4297d6"
      },
      "source": [
        "num=3.3\r\n",
        "b=int(num)\r\n",
        "type(b)"
      ],
      "execution_count": 28,
      "outputs": [
        {
          "output_type": "execute_result",
          "data": {
            "text/plain": [
              "int"
            ]
          },
          "metadata": {
            "tags": []
          },
          "execution_count": 28
        }
      ]
    },
    {
      "cell_type": "markdown",
      "metadata": {
        "id": "WOlA1RXrngPw"
      },
      "source": [
        "# **Range**"
      ]
    },
    {
      "cell_type": "code",
      "metadata": {
        "colab": {
          "base_uri": "https://localhost:8080/"
        },
        "id": "mJ-3pUsVnke2",
        "outputId": "41d6fb0e-f9b3-4aff-bef4-a0dcd93289b8"
      },
      "source": [
        "range(10)"
      ],
      "execution_count": 30,
      "outputs": [
        {
          "output_type": "execute_result",
          "data": {
            "text/plain": [
              "range(0, 10)"
            ]
          },
          "metadata": {
            "tags": []
          },
          "execution_count": 30
        }
      ]
    },
    {
      "cell_type": "code",
      "metadata": {
        "colab": {
          "base_uri": "https://localhost:8080/"
        },
        "id": "TXtiRikuntBM",
        "outputId": "4e048854-8f98-4697-991e-2beeb6cc0e98"
      },
      "source": [
        "list(range(10))"
      ],
      "execution_count": 31,
      "outputs": [
        {
          "output_type": "execute_result",
          "data": {
            "text/plain": [
              "[0, 1, 2, 3, 4, 5, 6, 7, 8, 9]"
            ]
          },
          "metadata": {
            "tags": []
          },
          "execution_count": 31
        }
      ]
    },
    {
      "cell_type": "code",
      "metadata": {
        "colab": {
          "base_uri": "https://localhost:8080/"
        },
        "id": "yc36d03vnxzV",
        "outputId": "6076d261-feb7-422e-bc9c-6bc0e70e6a67"
      },
      "source": [
        "list(range(2,10,2))"
      ],
      "execution_count": 32,
      "outputs": [
        {
          "output_type": "execute_result",
          "data": {
            "text/plain": [
              "[2, 4, 6, 8]"
            ]
          },
          "metadata": {
            "tags": []
          },
          "execution_count": 32
        }
      ]
    },
    {
      "cell_type": "markdown",
      "metadata": {
        "id": "T1fJr6fen8xI"
      },
      "source": [
        "# **Dictionary**"
      ]
    },
    {
      "cell_type": "code",
      "metadata": {
        "colab": {
          "base_uri": "https://localhost:8080/"
        },
        "id": "i4RrlpqloFYu",
        "outputId": "3f4907f6-59d9-4f8c-df97-1e2772bcdef4"
      },
      "source": [
        "n={'Shruti':'Girl', 'Aniket':'Boy'}\r\n",
        "n"
      ],
      "execution_count": 35,
      "outputs": [
        {
          "output_type": "execute_result",
          "data": {
            "text/plain": [
              "{'Aniket': 'Boy', 'Shruti': 'Girl'}"
            ]
          },
          "metadata": {
            "tags": []
          },
          "execution_count": 35
        }
      ]
    },
    {
      "cell_type": "markdown",
      "metadata": {
        "id": "5Kyu-p55oWlD"
      },
      "source": [
        "# **Operators**"
      ]
    },
    {
      "cell_type": "code",
      "metadata": {
        "colab": {
          "base_uri": "https://localhost:8080/"
        },
        "id": "DF2Q7IjnoZhG",
        "outputId": "416a10c3-74dd-4fab-f76e-9ba004ed4e57"
      },
      "source": [
        "x=2\r\n",
        "y=9\r\n",
        "x+y"
      ],
      "execution_count": 36,
      "outputs": [
        {
          "output_type": "execute_result",
          "data": {
            "text/plain": [
              "11"
            ]
          },
          "metadata": {
            "tags": []
          },
          "execution_count": 36
        }
      ]
    },
    {
      "cell_type": "code",
      "metadata": {
        "colab": {
          "base_uri": "https://localhost:8080/"
        },
        "id": "e3rHvjf9ofS2",
        "outputId": "e5b14abe-fa13-4080-fcb7-4fe86e5b42fe"
      },
      "source": [
        "x=x+2\r\n",
        "x"
      ],
      "execution_count": 37,
      "outputs": [
        {
          "output_type": "execute_result",
          "data": {
            "text/plain": [
              "4"
            ]
          },
          "metadata": {
            "tags": []
          },
          "execution_count": 37
        }
      ]
    },
    {
      "cell_type": "markdown",
      "metadata": {
        "id": "MLrT9eWUonNG"
      },
      "source": [
        "# **Swapping**"
      ]
    },
    {
      "cell_type": "code",
      "metadata": {
        "colab": {
          "base_uri": "https://localhost:8080/"
        },
        "id": "mnY2EVN7oqRa",
        "outputId": "1e6a1f92-41f5-4aa6-8ee7-76120e43d848"
      },
      "source": [
        "a=5\r\n",
        "b=3\r\n",
        "t=a\r\n",
        "a=b\r\n",
        "b=t\r\n",
        "print(a)\r\n",
        "print(b)"
      ],
      "execution_count": 39,
      "outputs": [
        {
          "output_type": "stream",
          "text": [
            "3\n",
            "5\n"
          ],
          "name": "stdout"
        }
      ]
    },
    {
      "cell_type": "markdown",
      "metadata": {
        "id": "Ru3S8t6io6BI"
      },
      "source": [
        "# **Math function**"
      ]
    },
    {
      "cell_type": "code",
      "metadata": {
        "colab": {
          "base_uri": "https://localhost:8080/"
        },
        "id": "mvzBOqCdo95a",
        "outputId": "6f66a677-0d65-4def-ed51-17584de857f1"
      },
      "source": [
        "import math\r\n",
        "x=math.sqrt(25)\r\n",
        "x"
      ],
      "execution_count": 40,
      "outputs": [
        {
          "output_type": "execute_result",
          "data": {
            "text/plain": [
              "5.0"
            ]
          },
          "metadata": {
            "tags": []
          },
          "execution_count": 40
        }
      ]
    },
    {
      "cell_type": "code",
      "metadata": {
        "colab": {
          "base_uri": "https://localhost:8080/"
        },
        "id": "wL1M5Tz9pGEo",
        "outputId": "59c903c0-0e79-425d-d96c-f2a07035f1e1"
      },
      "source": [
        "print(math.floor(2.4))"
      ],
      "execution_count": 41,
      "outputs": [
        {
          "output_type": "stream",
          "text": [
            "2\n"
          ],
          "name": "stdout"
        }
      ]
    },
    {
      "cell_type": "code",
      "metadata": {
        "colab": {
          "base_uri": "https://localhost:8080/"
        },
        "id": "dE5LK5-6pLEs",
        "outputId": "79143f9a-a674-4d42-a27c-37455a4465ca"
      },
      "source": [
        "print(math.ceil(9.8))"
      ],
      "execution_count": 42,
      "outputs": [
        {
          "output_type": "stream",
          "text": [
            "10\n"
          ],
          "name": "stdout"
        }
      ]
    },
    {
      "cell_type": "code",
      "metadata": {
        "colab": {
          "base_uri": "https://localhost:8080/"
        },
        "id": "96b690TJpuqR",
        "outputId": "34368aa7-b9e9-4200-d01e-4e2fb910a6b0"
      },
      "source": [
        "print(math.pow(3,2))"
      ],
      "execution_count": 44,
      "outputs": [
        {
          "output_type": "stream",
          "text": [
            "9.0\n"
          ],
          "name": "stdout"
        }
      ]
    },
    {
      "cell_type": "code",
      "metadata": {
        "colab": {
          "base_uri": "https://localhost:8080/"
        },
        "id": "QtqvdvaSpuiC",
        "outputId": "9b0a651f-0e1b-47db-c10f-725c779c9d2d"
      },
      "source": [
        "print(math.pi)"
      ],
      "execution_count": 45,
      "outputs": [
        {
          "output_type": "stream",
          "text": [
            "3.141592653589793\n"
          ],
          "name": "stdout"
        }
      ]
    }
  ]
}